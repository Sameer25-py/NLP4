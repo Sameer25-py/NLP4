{
 "cells": [
  {
   "cell_type": "code",
   "execution_count": 1,
   "metadata": {},
   "outputs": [
    {
     "name": "stderr",
     "output_type": "stream",
     "text": [
      "Using TensorFlow backend.\n",
      "C:\\Users\\hamma\\.conda\\envs\\py\\lib\\site-packages\\tensorflow\\python\\framework\\dtypes.py:526: FutureWarning: Passing (type, 1) or '1type' as a synonym of type is deprecated; in a future version of numpy, it will be understood as (type, (1,)) / '(1,)type'.\n",
      "  _np_qint8 = np.dtype([(\"qint8\", np.int8, 1)])\n",
      "C:\\Users\\hamma\\.conda\\envs\\py\\lib\\site-packages\\tensorflow\\python\\framework\\dtypes.py:527: FutureWarning: Passing (type, 1) or '1type' as a synonym of type is deprecated; in a future version of numpy, it will be understood as (type, (1,)) / '(1,)type'.\n",
      "  _np_quint8 = np.dtype([(\"quint8\", np.uint8, 1)])\n",
      "C:\\Users\\hamma\\.conda\\envs\\py\\lib\\site-packages\\tensorflow\\python\\framework\\dtypes.py:528: FutureWarning: Passing (type, 1) or '1type' as a synonym of type is deprecated; in a future version of numpy, it will be understood as (type, (1,)) / '(1,)type'.\n",
      "  _np_qint16 = np.dtype([(\"qint16\", np.int16, 1)])\n",
      "C:\\Users\\hamma\\.conda\\envs\\py\\lib\\site-packages\\tensorflow\\python\\framework\\dtypes.py:529: FutureWarning: Passing (type, 1) or '1type' as a synonym of type is deprecated; in a future version of numpy, it will be understood as (type, (1,)) / '(1,)type'.\n",
      "  _np_quint16 = np.dtype([(\"quint16\", np.uint16, 1)])\n",
      "C:\\Users\\hamma\\.conda\\envs\\py\\lib\\site-packages\\tensorflow\\python\\framework\\dtypes.py:530: FutureWarning: Passing (type, 1) or '1type' as a synonym of type is deprecated; in a future version of numpy, it will be understood as (type, (1,)) / '(1,)type'.\n",
      "  _np_qint32 = np.dtype([(\"qint32\", np.int32, 1)])\n",
      "C:\\Users\\hamma\\.conda\\envs\\py\\lib\\site-packages\\tensorflow\\python\\framework\\dtypes.py:535: FutureWarning: Passing (type, 1) or '1type' as a synonym of type is deprecated; in a future version of numpy, it will be understood as (type, (1,)) / '(1,)type'.\n",
      "  np_resource = np.dtype([(\"resource\", np.ubyte, 1)])\n"
     ]
    }
   ],
   "source": [
    "import numpy as np\n",
    "import pandas as pd\n",
    "from keras.preprocessing.text import Tokenizer\n",
    "from keras.preprocessing.sequence import pad_sequences\n",
    "from keras.models import Sequential, load_model\n",
    "from keras.layers import Dense, Embedding, LSTM, Bidirectional,Flatten,Dropout\n",
    "from sklearn.model_selection import train_test_split\n",
    "from keras.utils.np_utils import to_categorical\n",
    "import re"
   ]
  },
  {
   "cell_type": "code",
   "execution_count": 2,
   "metadata": {},
   "outputs": [],
   "source": [
    "import csv\n",
    "import pandas as pd\n",
    "\n",
    "train = pd.read_csv('msr_paraphrase_train.txt', sep = '\\t', quoting=csv.QUOTE_NONE)\n",
    "test = pd.read_csv('msr_paraphrase_test.txt', sep = '\\t', quoting=csv.QUOTE_NONE)"
   ]
  },
  {
   "cell_type": "code",
   "execution_count": 3,
   "metadata": {},
   "outputs": [],
   "source": [
    "dataSetTrain=[]\n",
    "for counter in range(len(train)):\n",
    "    data=train.loc[counter]\n",
    "    if(data[0]==0):\n",
    "        dataSetTrain.append(((data[3],data[4]),[0,1]))\n",
    "    else:\n",
    "        dataSetTrain.append(((data[3],data[4]),[1,0]))\n",
    "dataSetTest=[]\n",
    "for counter in range(len(test)):\n",
    "    data=test.loc[counter]\n",
    "    if(data[0]==0):\n",
    "        dataSetTest.append(((data[3],data[4]),np.array([0,1])))\n",
    "    else:\n",
    "        dataSetTest.append(((data[3],data[4]),np.array([1,0])))"
   ]
  },
  {
   "cell_type": "code",
   "execution_count": 4,
   "metadata": {},
   "outputs": [
    {
     "data": {
      "text/plain": [
       "(('Amrozi accused his brother, whom he called \"the witness\", of deliberately distorting his evidence.',\n",
       "  'Referring to him as only \"the witness\", Amrozi accused his brother of deliberately distorting his evidence.'),\n",
       " [1, 0])"
      ]
     },
     "execution_count": 4,
     "metadata": {},
     "output_type": "execute_result"
    }
   ],
   "source": [
    "dataSetTrain[0]"
   ]
  },
  {
   "cell_type": "code",
   "execution_count": 5,
   "metadata": {},
   "outputs": [
    {
     "name": "stdout",
     "output_type": "stream",
     "text": [
      "max 38\n",
      "24032\n",
      "here\n",
      "[14360, 94, 392, 1877, 1622, 14361, 6, 4899, 14362, 1, 94, 265, 1877, 22, 161, 2060, 2, 128, 4900, 505, 94, 392, 410, 1622, 14363, 6, 163, 94, 265, 410, 4899, 14364, 22, 161, 2, 4900]\n",
      "(38,)\n",
      "[14360    94   392  1877  1622 14361     6  4899 14362     1    94   265\n",
      "  1877    22   161  2060     2   128  4900   505    94   392   410  1622\n",
      " 14363     6   163    94   265   410  4899 14364    22   161     2  4900\n",
      "     0     0]\n"
     ]
    }
   ],
   "source": [
    "tokenizer = Tokenizer()\n",
    "sentenceList=[]\n",
    "labelList=[]\n",
    "for sentence in dataSetTrain:#get a list of all the sentence to fit tokenizer \n",
    "    splitSentence1=sentence[0][0].split()#split into words\n",
    "    splitSentence2=sentence[0][1].split()#split into words\n",
    "    sentenceList.append(splitSentence1[:19]+splitSentence2[:19])\n",
    "    labelList.append(sentence[1])\n",
    "sentenceList_test=[]\n",
    "labelList_test=[]\n",
    "for sentence in dataSetTest:#get a list of all the sentence to fit tokenizer \n",
    "    splitSentence1=sentence[0][0].split()#split into words\n",
    "    splitSentence2=sentence[0][1].split()#split into words\n",
    "    sentenceList_test.append(splitSentence1[:19]+splitSentence2[:19])\n",
    "    labelList_test.append(sentence[1])\n",
    "totalDataSet=sentenceList_test+sentenceList\n",
    "tokenizer.fit_on_texts(totalDataSet)\n",
    "maxLength=max(len(sentence) for sentence in totalDataSet)\n",
    "print(\"max\",maxLength)\n",
    "vocabularySize=len(tokenizer.word_index)+1\n",
    "print(vocabularySize)\n",
    "\n",
    "Xtrain_paraphraseCheck=tokenizer.texts_to_sequences(sentenceList)\n",
    "Xtest_paraphraseCheck=tokenizer.texts_to_sequences(sentenceList_test)\n",
    "print(\"here\")\n",
    "print(Xtest_paraphraseCheck[0])\n",
    "# # Xtest_numeric_conll=tokenizer.texts_to_sequences(testSentences)\n",
    "Xtrain_paraphraseCheck_pad=pad_sequences(Xtrain_paraphraseCheck,maxlen=maxLength,padding='post')\n",
    "Xtest_paraphraseCheck_pad=pad_sequences(Xtest_paraphraseCheck,maxlen=maxLength,padding='post')\n",
    "# Xtrain_paraphraseCheck_pad=np.array(Xtrain_paraphraseCheck_pad)\n",
    "print(Xtest_paraphraseCheck_pad[0].shape)\n",
    "print(Xtest_paraphraseCheck_pad[0])\n",
    "# tokenizers.fit_on_texts(totalLabelsConll)\n",
    "\n",
    "\n",
    "# # summarize what was learned\n",
    "# # print(tokenizers.word_counts)\n",
    "# # print(tokenizers.document_count)\n",
    "# print(tokenizer.word_index)\n",
    "# # print(tokenizers.word_docs)\n",
    "# XtrainLabel_numeric_conll=tokenizers.texts_to_sequences(trainLabels)\n",
    "# XtestLabel_numeric_conll=tokenizers.texts_to_sequences(testLabels)\n",
    "# Xtrainlabel_pad_conll=pad_sequences(XtrainLabel_numeric_conll,maxlen=maxLength,padding='post')\n",
    "# Xtestlabel_pad_conll=pad_sequences(XtestLabel_numeric_conll,maxlen=maxLength,padding='post')\n",
    "# # maxLengthLabel=max(len(data) for data in Xtrainlabel_pad_conll)\n",
    "# for i in range(1):\n",
    "#     print(Xtrainlabel_pad_conll[i])\n",
    "# for label in Xtrainlabel_pad_conll:\n",
    "#     label=to_categorical(label, num_classes=maxLengthlabels+1)\n",
    "\n",
    "# #     print(label)\n",
    "# #     break\n",
    "# Xtrainlabel_pad_conll_oh = [to_categorical(i, num_classes=maxLengthlabels+1) for i in Xtrainlabel_pad_conll]\n",
    "\n"
   ]
  },
  {
   "cell_type": "code",
   "execution_count": 6,
   "metadata": {},
   "outputs": [
    {
     "data": {
      "text/plain": [
       "array([ 3037,   340,    28,  2835,  1310,    15,   168,    77, 10507,\n",
       "           3,  5799, 10508,    28,  3003,  1795,     2,   207,    18,\n",
       "          71,    77, 10507,  3037,   340,    28,  2134,     3,  5799,\n",
       "       10508,    28,  3003,     0,     0,     0,     0,     0,     0,\n",
       "           0,     0])"
      ]
     },
     "execution_count": 6,
     "metadata": {},
     "output_type": "execute_result"
    }
   ],
   "source": [
    "Xtrain_paraphraseCheck_pad[0]"
   ]
  },
  {
   "cell_type": "code",
   "execution_count": null,
   "metadata": {},
   "outputs": [],
   "source": [
    "embeddings_index = dict()\n",
    "f = open('C://Users//Maddy//Downloads//Compressed//glove.6B.300d.txt',encoding=\"utf8\")\n",
    "for line in f:\n",
    "\tvalues = line.split()\n",
    "\tword = values[0]\n",
    "\tcoefs = np.asarray(values[1:], dtype='float32')\n",
    "\tembeddings_index[word] = coefs\n",
    "f.close()\n",
    "print('Loaded %s word vectors.' % len(embeddings_index))"
   ]
  },
  {
   "cell_type": "code",
   "execution_count": 14,
   "metadata": {},
   "outputs": [],
   "source": [
    "EMBEDDING_DIM = embeddings_index.get('a').shape[0]\n",
    "\n",
    "embedding_matrix = np.zeros((vocabularySize, EMBEDDING_DIM))\n",
    "for word, i in tokenizer.word_index.items():\n",
    "    if i > maxLength:\n",
    "        continue\n",
    "    embedding_vector = embeddings_index.get(word) ## This references the loaded embeddings dictionary\n",
    "    if embedding_vector is not None:\n",
    "        # words not found in embedding index will be all-zeros.\n",
    "        embedding_matrix[i] = embedding_vector"
   ]
  },
  {
   "cell_type": "code",
   "execution_count": 269,
   "metadata": {
    "scrolled": true
   },
   "outputs": [
    {
     "name": "stdout",
     "output_type": "stream",
     "text": [
      "_________________________________________________________________\n",
      "Layer (type)                 Output Shape              Param #   \n",
      "=================================================================\n",
      "embedding_23 (Embedding)     (None, 38, 300)           5800800   \n",
      "_________________________________________________________________\n",
      "flatten_15 (Flatten)         (None, 11400)             0         \n",
      "_________________________________________________________________\n",
      "dense_51 (Dense)             (None, 300)               3420300   \n",
      "_________________________________________________________________\n",
      "dense_52 (Dense)             (None, 150)               45150     \n",
      "_________________________________________________________________\n",
      "dense_53 (Dense)             (None, 2)                 302       \n",
      "=================================================================\n",
      "Total params: 9,266,552\n",
      "Trainable params: 3,465,752\n",
      "Non-trainable params: 5,800,800\n",
      "_________________________________________________________________\n"
     ]
    }
   ],
   "source": [
    "from keras.models import Sequential\n",
    "from keras.layers import LSTM, Dense, Dropout, Masking, Embedding\n",
    "model1 = Sequential()\n",
    "# Embedding layer\n",
    "model1.add(\n",
    "    Embedding(vocabularySize,300,input_length=maxLength, weights= [embedding_matrix], trainable=False))\n",
    "# Fully connected layer\n",
    "model1.add(Flatten())\n",
    "model1.add(Dense(300, activation='relu'))\n",
    "model1.add(Dense(150, activation='relu'))\n",
    "# Output layer\n",
    "model1.add(Dense(2, activation='softmax'))\n",
    "\n",
    "# Compile the model\n",
    "model1.compile(\n",
    "optimizer='adam', loss='categorical_crossentropy', metrics=['accuracy'])\n",
    "model1.summary()\n"
   ]
  },
  {
   "cell_type": "code",
   "execution_count": 270,
   "metadata": {},
   "outputs": [
    {
     "name": "stdout",
     "output_type": "stream",
     "text": [
      "Epoch 1/5\n",
      "4076/4076 [==============================] - 13s 3ms/step - loss: 0.6290 - acc: 0.6619\n",
      "Epoch 2/5\n",
      "4076/4076 [==============================] - 13s 3ms/step - loss: 0.5124 - acc: 0.7529\n",
      "Epoch 3/5\n",
      "4076/4076 [==============================] - 12s 3ms/step - loss: 0.2928 - acc: 0.8849\n",
      "Epoch 4/5\n",
      "4076/4076 [==============================] - 12s 3ms/step - loss: 0.1018 - acc: 0.9671\n",
      "Epoch 5/5\n",
      "4076/4076 [==============================] - 12s 3ms/step - loss: 0.0539 - acc: 0.9860\n"
     ]
    }
   ],
   "source": [
    "hist1=model1.fit(Xtrain_paraphraseCheck_pad, np.array(labelList), epochs = 5, batch_size = 32, verbose = 1)"
   ]
  },
  {
   "cell_type": "code",
   "execution_count": 215,
   "metadata": {},
   "outputs": [
    {
     "name": "stdout",
     "output_type": "stream",
     "text": [
      "[1995  344   27 3672 1075   15  184   75 6356    3 3673 6357   27 2288\n",
      " 1605    2  212   18   67   75 6356 1995  344   27 2626    3 3673 6357\n",
      "   27 2288    0    0    0    0    0    0    0    0]\n"
     ]
    }
   ],
   "source": [
    "print(Xtest_paraphraseCheck_pad[0])"
   ]
  },
  {
   "cell_type": "code",
   "execution_count": 271,
   "metadata": {},
   "outputs": [],
   "source": [
    "predictions1=[]\n",
    "for i in range(len(Xtest_paraphraseCheck_pad)):\n",
    "    predict=model1.predict(np.array([Xtest_paraphraseCheck_pad[i]]))\n",
    "    if(predict[0][0]>predict[0][1]):\n",
    "        predictions1.append([1,0])\n",
    "    else:\n",
    "        predictions1.append([0,1])\n"
   ]
  },
  {
   "cell_type": "code",
   "execution_count": 229,
   "metadata": {},
   "outputs": [
    {
     "name": "stdout",
     "output_type": "stream",
     "text": [
      "0\n"
     ]
    }
   ],
   "source": [
    "print(predictions[2].argmax())"
   ]
  },
  {
   "cell_type": "code",
   "execution_count": 241,
   "metadata": {},
   "outputs": [
    {
     "name": "stdout",
     "output_type": "stream",
     "text": [
      "(array([0], dtype=int64), array([0], dtype=int64))\n",
      "[0 0]\n"
     ]
    }
   ],
   "source": [
    "print(np.where(predictions1[2] ==predictions1[2].max()))\n",
    "print(predictions[2].argmax(axis=0))"
   ]
  },
  {
   "cell_type": "code",
   "execution_count": 272,
   "metadata": {},
   "outputs": [
    {
     "name": "stdout",
     "output_type": "stream",
     "text": [
      "Accuracy 67.78704612365064\n",
      "Precision 99.8543335761107\n",
      "recall 67.68699086645272\n",
      "fmeasure 80.68265411210828\n"
     ]
    },
    {
     "data": {
      "image/png": "[encoded data removed]",
      "text/plain": [
       "<Figure size 432x288 with 1 Axes>"
      ]
     },
     "metadata": {
      "needs_background": "light"
     },
     "output_type": "display_data"
    },
    {
     "data": {
      "image/png": "[encoded data removed]",
      "text/plain": [
       "<Figure size 432x288 with 1 Axes>"
      ]
     },
     "metadata": {
      "needs_background": "light"
     },
     "output_type": "display_data"
    }
   ],
   "source": [
    "import matplotlib.pyplot as plt\n",
    "import matplotlib.mlab as mlab\n",
    "classify=[]\n",
    "truePositive=0\n",
    "falsePositive=0\n",
    "trueNegative=0\n",
    "falseNegative=0\n",
    "for counter in range(len(predictions1)):\n",
    "    print\n",
    "    if(predictions1[counter][0]==labelList_test[0][0]):\n",
    "        if(predictions1[counter][0]==0):\n",
    "            trueNegative=trueNegative+1\n",
    "        else:\n",
    "            truePositive=truePositive+1 \n",
    "    else:\n",
    "        if(predictions1[counter][0]==0):\n",
    "            falseNegative=falseNegative+1\n",
    "        else:\n",
    "            falsePositive=falsePositive+1\n",
    "            \n",
    "accuracy=(truePositive+trueNegative)/(truePositive+trueNegative+falseNegative+falsePositive)\n",
    "precision=truePositive/(truePositive+falsePositive)\n",
    "recall=truePositive/(truePositive+falseNegative)\n",
    "fmeasure=(2*precision*recall)/(precision+recall)*100\n",
    "print(\"Accuracy\",accuracy*100)\n",
    "print(\"Precision\",precision*100)\n",
    "print(\"recall\",recall*100)\n",
    "print(\"fmeasure\",fmeasure)\n",
    "7\n",
    "# summarize history for loss\n",
    "plt.plot(hist1.history['loss'])\n",
    "plt.title('model loss')\n",
    "plt.ylabel('loss')\n",
    "plt.xlabel('epoch')\n",
    "plt.legend(['train', 'test'], loc='upper left')\n",
    "plt.show()\n",
    "# print(truePositive) \n",
    "# print(falsePositive)\n",
    "# print(trueNegative) \n",
    "# print(falseNegative) "
   ]
  },
  {
   "cell_type": "code",
   "execution_count": 256,
   "metadata": {},
   "outputs": [
    {
     "name": "stdout",
     "output_type": "stream",
     "text": [
      "[1 0]\n"
     ]
    }
   ],
   "source": []
  },
  {
   "cell_type": "code",
   "execution_count": 276,
   "metadata": {},
   "outputs": [
    {
     "name": "stdout",
     "output_type": "stream",
     "text": [
      "_________________________________________________________________\n",
      "Layer (type)                 Output Shape              Param #   \n",
      "=================================================================\n",
      "embedding_24 (Embedding)     (None, 38, 300)           5800800   \n",
      "_________________________________________________________________\n",
      "bidirectional_4 (Bidirection (None, 38, 600)           1442400   \n",
      "_________________________________________________________________\n",
      "flatten_16 (Flatten)         (None, 22800)             0         \n",
      "_________________________________________________________________\n",
      "dense_54 (Dense)             (None, 150)               3420150   \n",
      "_________________________________________________________________\n",
      "dense_55 (Dense)             (None, 2)                 302       \n",
      "=================================================================\n",
      "Total params: 10,663,652\n",
      "Trainable params: 4,862,852\n",
      "Non-trainable params: 5,800,800\n",
      "_________________________________________________________________\n"
     ]
    }
   ],
   "source": [
    "model2 = Sequential()\n",
    "# Embedding layer\n",
    "model2.add(\n",
    "    Embedding(vocabularySize,300,input_length=maxLength, weights= [embedding_matrix], trainable=False))\n",
    "# Fully connected layer\n",
    "# model2.add(Flatten())\n",
    "model2.add(Bidirectional(LSTM(300, return_sequences=True, \n",
    "               dropout=0.1, recurrent_dropout=0.1)))\n",
    "model2.add(Flatten())\n",
    "model2.add(Dense(150, activation='relu'))\n",
    "# Output layer\n",
    "model2.add(Dense(2, activation='softmax'))\n",
    "\n",
    "# Compile the model\n",
    "model2.compile(\n",
    "optimizer='adam', loss='categorical_crossentropy', metrics=['accuracy'])\n",
    "model2.summary()\n"
   ]
  },
  {
   "cell_type": "code",
   "execution_count": 277,
   "metadata": {},
   "outputs": [
    {
     "name": "stdout",
     "output_type": "stream",
     "text": [
      "Epoch 1/5\n",
      "4076/4076 [==============================] - 89s 22ms/step - loss: 0.6317 - acc: 0.6708\n",
      "Epoch 2/5\n",
      "4076/4076 [==============================] - 87s 21ms/step - loss: 0.5998 - acc: 0.6887\n",
      "Epoch 3/5\n",
      "4076/4076 [==============================] - 86s 21ms/step - loss: 0.5763 - acc: 0.6950\n",
      "Epoch 4/5\n",
      "4076/4076 [==============================] - 86s 21ms/step - loss: 0.5566 - acc: 0.7127\n",
      "Epoch 5/5\n",
      "4076/4076 [==============================] - 87s 21ms/step - loss: 0.5008 - acc: 0.7574\n"
     ]
    }
   ],
   "source": [
    "hist2=model2.fit(Xtrain_paraphraseCheck_pad, np.array(labelList), epochs = 5, batch_size = 32, verbose = 1)"
   ]
  },
  {
   "cell_type": "code",
   "execution_count": 278,
   "metadata": {},
   "outputs": [],
   "source": [
    "predictions2=[]\n",
    "for i in range(len(Xtest_paraphraseCheck_pad)):\n",
    "    predict=model2.predict(np.array([Xtest_paraphraseCheck_pad[i]]))\n",
    "    if(predict[0][0]>predict[0][1]):\n",
    "        predictions2.append([1,0])\n",
    "    else:\n",
    "        predictions2.append([0,1])\n"
   ]
  },
  {
   "cell_type": "code",
   "execution_count": 286,
   "metadata": {},
   "outputs": [
    {
     "name": "stdout",
     "output_type": "stream",
     "text": [
      "Accuracy 74.16584887144259\n",
      "Precision 100.0\n",
      "recall 74.16584887144259\n",
      "fmeasure 85.16692491900267\n"
     ]
    },
    {
     "data": {
      "image/png": "[encoded data removed]",
      "text/plain": [
       "<Figure size 432x288 with 1 Axes>"
      ]
     },
     "metadata": {
      "needs_background": "light"
     },
     "output_type": "display_data"
    },
    {
     "data": {
      "image/png": "[encoded data removed]",
      "text/plain": [
       "<Figure size 432x288 with 1 Axes>"
      ]
     },
     "metadata": {
      "needs_background": "light"
     },
     "output_type": "display_data"
    }
   ],
   "source": [
    "import matplotlib.pyplot as plt\n",
    "import matplotlib.mlab as mlab\n",
    "classify=[]\n",
    "truePositive=0\n",
    "falsePositive=0\n",
    "trueNegative=0\n",
    "falseNegative=0\n",
    "for counter in range(len(predictions1)):\n",
    "    print\n",
    "    if(predictions2[counter][0]==labelList_test[0][0]):\n",
    "        if(predictions2[counter][0]==0):\n",
    "            trueNegative=trueNegative+1\n",
    "        else:\n",
    "            truePositive=truePositive+1 \n",
    "    else:\n",
    "        if(predictions2[counter][0]==0):\n",
    "            falseNegative=falseNegative+1\n",
    "        else:\n",
    "            falsePositive=falsePositive+1\n",
    "            \n",
    "accuracy=(truePositive+trueNegative)/(truePositive+trueNegative+falseNegative+falsePositive)\n",
    "precision=truePositive/(truePositive+falsePositive)\n",
    "recall=truePositive/(truePositive+falseNegative)\n",
    "fmeasure=(2*precision*recall)/(precision+recall)*100\n",
    "print(\"Accuracy\",accuracy*100)\n",
    "print(\"Precision\",precision*100)\n",
    "print(\"recall\",recall*100)\n",
    "print(\"fmeasure\",fmeasure)\n",
    "plt.plot(hist2.history['acc'])\n",
    "plt.title('model accuracy')\n",
    "plt.ylabel('accuracy')\n",
    "plt.xlabel('epoch')\n",
    "plt.legend(['train', 'test'], loc='upper left')\n",
    "plt.show()\n",
    "# summarize history for loss\n",
    "plt.plot(hist2.history['loss'])\n",
    "plt.title('model loss')\n",
    "plt.ylabel('loss')\n",
    "plt.xlabel('epoch')\n",
    "plt.legend(['train', 'test'], loc='upper left')\n",
    "plt.show()\n",
    "# print(truePositive) \n",
    "# print(falsePositive)\n",
    "# print(trueNegative) \n",
    "# print(falseNegative) "
   ]
  },
  {
   "cell_type": "code",
   "execution_count": 15,
   "metadata": {},
   "outputs": [
    {
     "name": "stdout",
     "output_type": "stream",
     "text": [
      "_________________________________________________________________\n",
      "Layer (type)                 Output Shape              Param #   \n",
      "=================================================================\n",
      "embedding_2 (Embedding)      (None, 38, 300)           7209600   \n",
      "_________________________________________________________________\n",
      "lstm_2 (LSTM)                (None, 38, 300)           721200    \n",
      "_________________________________________________________________\n",
      "flatten_2 (Flatten)          (None, 11400)             0         \n",
      "_________________________________________________________________\n",
      "dense_3 (Dense)              (None, 150)               1710150   \n",
      "_________________________________________________________________\n",
      "dense_4 (Dense)              (None, 2)                 302       \n",
      "=================================================================\n",
      "Total params: 9,641,252\n",
      "Trainable params: 2,431,652\n",
      "Non-trainable params: 7,209,600\n",
      "_________________________________________________________________\n"
     ]
    }
   ],
   "source": [
    "model3 = Sequential()\n",
    "# Embedding layer\n",
    "model3.add(\n",
    "    Embedding(vocabularySize,300,input_length=maxLength, weights= [embedding_matrix], trainable=False))\n",
    "# Fully connected layer\n",
    "# model2.add(Flatten())\n",
    "model3.add(LSTM(300, return_sequences=True, \n",
    "               dropout=0.1, recurrent_dropout=0.1))\n",
    "model3.add(Flatten())\n",
    "model3.add(Dense(150, activation='relu'))\n",
    "# Output layer\n",
    "model3.add(Dense(2, activation='softmax'))\n",
    "\n",
    "# Compile the model\n",
    "model3.compile(\n",
    "optimizer='adam', loss='categorical_crossentropy', metrics=['accuracy'])\n",
    "model3.summary()\n"
   ]
  },
  {
   "cell_type": "code",
   "execution_count": 16,
   "metadata": {},
   "outputs": [
    {
     "name": "stdout",
     "output_type": "stream",
     "text": [
      "Epoch 1/5\n",
      "4076/4076 [==============================] - 46s 11ms/step - loss: 0.6254 - acc: 0.6791\n",
      "Epoch 2/5\n",
      "4076/4076 [==============================] - 45s 11ms/step - loss: 0.5930 - acc: 0.6928\n",
      "Epoch 3/5\n",
      "4076/4076 [==============================] - 47s 11ms/step - loss: 0.5741 - acc: 0.7009\n",
      "Epoch 4/5\n",
      "4076/4076 [==============================] - 46s 11ms/step - loss: 0.5372 - acc: 0.7242\n",
      "Epoch 5/5\n",
      "4076/4076 [==============================] - 47s 11ms/step - loss: 0.4707 - acc: 0.7701\n"
     ]
    }
   ],
   "source": [
    "hist3=model3.fit(Xtrain_paraphraseCheck_pad, np.array(labelList), epochs = 5, batch_size = 32, verbose = 1)"
   ]
  },
  {
   "cell_type": "code",
   "execution_count": 17,
   "metadata": {},
   "outputs": [],
   "source": [
    "predictions3=[]\n",
    "for i in range(len(Xtest_paraphraseCheck_pad)):\n",
    "    predict=model3.predict(np.array([Xtest_paraphraseCheck_pad[i]]))\n",
    "    if(predict[0][0]>predict[0][1]):\n",
    "        predictions3.append([1,0])\n",
    "    else:\n",
    "        predictions3.append([0,1])\n"
   ]
  },
  {
   "cell_type": "code",
   "execution_count": 18,
   "metadata": {},
   "outputs": [
    {
     "name": "stdout",
     "output_type": "stream",
     "text": [
      "Accuracy 81.68115942028984\n",
      "Precision 100.0\n",
      "recall 81.68115942028984\n",
      "fmeasure 89.91703892788769\n"
     ]
    },
    {
     "data": {
      "image/png": "[encoded data removed]",
      "text/plain": [
       "<Figure size 432x288 with 1 Axes>"
      ]
     },
     "metadata": {
      "needs_background": "light"
     },
     "output_type": "display_data"
    },
    {
     "data": {
      "image/png": "[encoded data removed]",
      "text/plain": [
       "<Figure size 432x288 with 1 Axes>"
      ]
     },
     "metadata": {
      "needs_background": "light"
     },
     "output_type": "display_data"
    }
   ],
   "source": [
    "import matplotlib.pyplot as plt\n",
    "import matplotlib.mlab as mlab\n",
    "classify=[]\n",
    "truePositive=0\n",
    "falsePositive=0\n",
    "trueNegative=0\n",
    "falseNegative=0\n",
    "for counter in range(len(predictions3)):\n",
    "    print\n",
    "    if(predictions3[counter][0]==labelList_test[0][0]):\n",
    "        if(predictions3[counter][0]==0):\n",
    "            trueNegative=trueNegative+1\n",
    "        else:\n",
    "            truePositive=truePositive+1 \n",
    "    else:\n",
    "        if(predictions3[counter][0]==0):\n",
    "            falseNegative=falseNegative+1\n",
    "        else:\n",
    "            falsePositive=falsePositive+1\n",
    "            \n",
    "accuracy=(truePositive+trueNegative)/(truePositive+trueNegative+falseNegative+falsePositive)\n",
    "precision=truePositive/(truePositive+falsePositive)\n",
    "recall=truePositive/(truePositive+falseNegative)\n",
    "fmeasure=(2*precision*recall)/(precision+recall)*100\n",
    "print(\"Accuracy\",accuracy*100)\n",
    "print(\"Precision\",precision*100)\n",
    "print(\"recall\",recall*100)\n",
    "print(\"fmeasure\",fmeasure)\n",
    "plt.plot(hist3.history['acc'])\n",
    "plt.title('model accuracy')\n",
    "plt.ylabel('accuracy')\n",
    "plt.xlabel('epoch')\n",
    "plt.legend(['train', 'test'], loc='upper left')\n",
    "plt.show()\n",
    "# summarize history for loss\n",
    "plt.plot(hist3.history['loss'])\n",
    "plt.title('model loss')\n",
    "plt.ylabel('loss')\n",
    "plt.xlabel('epoch')\n",
    "plt.legend(['train', 'test'], loc='upper left')\n",
    "plt.show()\n",
    "# print(truePositive) \n",
    "# print(falsePositive)\n",
    "# print(trueNegative) \n",
    "# print(falseNegative) "
   ]
  },
  {
   "cell_type": "markdown",
   "metadata": {},
   "source": [
    "## Variations"
   ]
  },
  {
   "cell_type": "markdown",
   "metadata": {},
   "source": [
    "#### 1)Add more layers to fully connected model to learn more complex model and use SGD with more epochs"
   ]
  },
  {
   "cell_type": "code",
   "execution_count": 20,
   "metadata": {},
   "outputs": [
    {
     "name": "stdout",
     "output_type": "stream",
     "text": [
      "_________________________________________________________________\n",
      "Layer (type)                 Output Shape              Param #   \n",
      "=================================================================\n",
      "embedding_4 (Embedding)      (None, 38, 300)           7209600   \n",
      "_________________________________________________________________\n",
      "flatten_4 (Flatten)          (None, 11400)             0         \n",
      "_________________________________________________________________\n",
      "dense_8 (Dense)              (None, 300)               3420300   \n",
      "_________________________________________________________________\n",
      "dense_9 (Dense)              (None, 200)               60200     \n",
      "_________________________________________________________________\n",
      "dense_10 (Dense)             (None, 50)                10050     \n",
      "_________________________________________________________________\n",
      "dense_11 (Dense)             (None, 2)                 102       \n",
      "=================================================================\n",
      "Total params: 10,700,252\n",
      "Trainable params: 3,490,652\n",
      "Non-trainable params: 7,209,600\n",
      "_________________________________________________________________\n"
     ]
    }
   ],
   "source": [
    "model4 = Sequential()\n",
    "# Embedding layer\n",
    "model4.add(\n",
    "    Embedding(vocabularySize,300,input_length=maxLength, weights= [embedding_matrix], trainable=False))\n",
    "# Fully connected layer\n",
    "model4.add(Flatten())\n",
    "model4.add(Dense(300, activation='relu'))\n",
    "model4.add(Dense(200, activation='relu'))\n",
    "model4.add(Dense(50, activation='relu'))\n",
    "# Output layer\n",
    "model4.add(Dense(2, activation='softmax'))\n",
    "\n",
    "# Compile the model\n",
    "model4.compile(\n",
    "optimizer='sgd', loss='categorical_crossentropy', metrics=['accuracy'])\n",
    "model4.summary()\n"
   ]
  },
  {
   "cell_type": "code",
   "execution_count": 21,
   "metadata": {},
   "outputs": [
    {
     "name": "stdout",
     "output_type": "stream",
     "text": [
      "Epoch 1/10\n",
      "4076/4076 [==============================] - 7s 2ms/step - loss: 0.6284 - acc: 0.6715\n",
      "Epoch 2/10\n",
      "4076/4076 [==============================] - 7s 2ms/step - loss: 0.5927 - acc: 0.6838\n",
      "Epoch 3/10\n",
      "4076/4076 [==============================] - 6s 2ms/step - loss: 0.5663 - acc: 0.7007\n",
      "Epoch 4/10\n",
      "4076/4076 [==============================] - 6s 1ms/step - loss: 0.5405 - acc: 0.7247\n",
      "Epoch 5/10\n",
      "4076/4076 [==============================] - 6s 1ms/step - loss: 0.5117 - acc: 0.7502\n",
      "Epoch 6/10\n",
      "4076/4076 [==============================] - 6s 2ms/step - loss: 0.4806 - acc: 0.7748\n",
      "Epoch 7/10\n",
      "4076/4076 [==============================] - 6s 1ms/step - loss: 0.4423 - acc: 0.8059\n",
      "Epoch 8/10\n",
      "4076/4076 [==============================] - 6s 1ms/step - loss: 0.4001 - acc: 0.8395\n",
      "Epoch 9/10\n",
      "4076/4076 [==============================] - 6s 1ms/step - loss: 0.3570 - acc: 0.8732\n",
      "Epoch 10/10\n",
      "4076/4076 [==============================] - 6s 1ms/step - loss: 0.3056 - acc: 0.9033\n"
     ]
    }
   ],
   "source": [
    "hist4=model4.fit(Xtrain_paraphraseCheck_pad, np.array(labelList), epochs = 10, batch_size = 32, verbose = 1)"
   ]
  },
  {
   "cell_type": "code",
   "execution_count": 22,
   "metadata": {},
   "outputs": [],
   "source": [
    "predictions4=[]\n",
    "for i in range(len(Xtest_paraphraseCheck_pad)):\n",
    "    predict=model4.predict(np.array([Xtest_paraphraseCheck_pad[i]]))\n",
    "    if(predict[0][0]>predict[0][1]):\n",
    "        predictions4.append([1,0])\n",
    "    else:\n",
    "        predictions4.append([0,1])\n"
   ]
  },
  {
   "cell_type": "code",
   "execution_count": 26,
   "metadata": {},
   "outputs": [
    {
     "name": "stdout",
     "output_type": "stream",
     "text": [
      "Accuracy 80.28985507246377\n",
      "Precision 100.0\n",
      "recall 80.28985507246377\n",
      "fmeasure 89.06752411575563\n"
     ]
    },
    {
     "data": {
      "image/png": "[encoded data removed]",
      "text/plain": [
       "<Figure size 432x288 with 1 Axes>"
      ]
     },
     "metadata": {
      "needs_background": "light"
     },
     "output_type": "display_data"
    },
    {
     "data": {
      "image/png": "[encoded data removed]",
      "text/plain": [
       "<Figure size 432x288 with 1 Axes>"
      ]
     },
     "metadata": {
      "needs_background": "light"
     },
     "output_type": "display_data"
    }
   ],
   "source": [
    "import matplotlib.pyplot as plt\n",
    "import matplotlib.mlab as mlab\n",
    "classify=[]\n",
    "truePositive=0\n",
    "falsePositive=0\n",
    "trueNegative=0\n",
    "falseNegative=0\n",
    "for counter in range(len(predictions4)):\n",
    "    print\n",
    "    if(predictions4[counter][0]==labelList_test[0][0]):\n",
    "        if(predictions4[counter][0]==0):\n",
    "            trueNegative=trueNegative+1\n",
    "        else:\n",
    "            truePositive=truePositive+1 \n",
    "    else:\n",
    "        if(predictions4[counter][0]==0):\n",
    "            falseNegative=falseNegative+1\n",
    "        else:\n",
    "            falsePositive=falsePositive+1\n",
    "            \n",
    "accuracy=(truePositive+trueNegative)/(truePositive+trueNegative+falseNegative+falsePositive)\n",
    "precision=truePositive/(truePositive+falsePositive)\n",
    "recall=truePositive/(truePositive+falseNegative)\n",
    "fmeasure=(2*precision*recall)/(precision+recall)*100\n",
    "print(\"Accuracy\",accuracy*100)\n",
    "print(\"Precision\",precision*100)\n",
    "print(\"recall\",recall*100)\n",
    "print(\"fmeasure\",fmeasure)\n",
    "plt.plot(hist4.history['acc'])\n",
    "plt.title('model accuracy')\n",
    "plt.ylabel('accuracy')\n",
    "plt.xlabel('epoch')\n",
    "plt.legend(['train', 'test'], loc='upper left')\n",
    "plt.show()\n",
    "# summarize history for loss\n",
    "plt.plot(hist4.history['loss'])\n",
    "plt.title('model loss')\n",
    "plt.ylabel('loss')\n",
    "plt.xlabel('epoch')\n",
    "plt.legend(['train', 'test'], loc='upper left')\n",
    "plt.show()\n",
    "# print(truePositive) \n",
    "# print(falsePositive)\n",
    "# print(trueNegative) \n",
    "# print(falseNegative) "
   ]
  },
  {
   "cell_type": "markdown",
   "metadata": {},
   "source": [
    "#### As we can see more layers, combined with sgd works better than adam with fewer layers, at same number of epochs=5, the feed forwards surpasses even LSTM and Bi-LSTM at 10 epochs in terms of accuracy"
   ]
  },
  {
   "cell_type": "markdown",
   "metadata": {},
   "source": [
    "### 2)Use more layers and more number of epochs for both LSTM and Bi-LSTM"
   ]
  },
  {
   "cell_type": "code",
   "execution_count": 29,
   "metadata": {},
   "outputs": [
    {
     "name": "stdout",
     "output_type": "stream",
     "text": [
      "_________________________________________________________________\n",
      "Layer (type)                 Output Shape              Param #   \n",
      "=================================================================\n",
      "embedding_7 (Embedding)      (None, 38, 300)           7209600   \n",
      "_________________________________________________________________\n",
      "bidirectional_3 (Bidirection (None, 38, 600)           1442400   \n",
      "_________________________________________________________________\n",
      "flatten_7 (Flatten)          (None, 22800)             0         \n",
      "_________________________________________________________________\n",
      "dense_17 (Dense)             (None, 300)               6840300   \n",
      "_________________________________________________________________\n",
      "dense_18 (Dense)             (None, 150)               45150     \n",
      "_________________________________________________________________\n",
      "dense_19 (Dense)             (None, 2)                 302       \n",
      "=================================================================\n",
      "Total params: 15,537,752\n",
      "Trainable params: 8,328,152\n",
      "Non-trainable params: 7,209,600\n",
      "_________________________________________________________________\n",
      "Epoch 1/7\n",
      "4076/4076 [==============================] - 106s 26ms/step - loss: 0.6359 - acc: 0.6735\n",
      "Epoch 2/7\n",
      "4076/4076 [==============================] - 100s 25ms/step - loss: 0.6012 - acc: 0.6963\n",
      "Epoch 3/7\n",
      "4076/4076 [==============================] - 100s 25ms/step - loss: 0.5717 - acc: 0.7103\n",
      "Epoch 4/7\n",
      "4076/4076 [==============================] - 101s 25ms/step - loss: 0.5251 - acc: 0.7353\n",
      "Epoch 5/7\n",
      "4076/4076 [==============================] - 96s 24ms/step - loss: 0.4053 - acc: 0.8182\n",
      "Epoch 6/7\n",
      "4076/4076 [==============================] - 104s 25ms/step - loss: 0.2102 - acc: 0.9158\n",
      "Epoch 7/7\n",
      "4076/4076 [==============================] - 99s 24ms/step - loss: 0.0972 - acc: 0.9681\n",
      "Accuracy 80.81159420289855\n",
      "Precision 100.0\n",
      "recall 80.81159420289855\n",
      "fmeasure 89.387624238538\n"
     ]
    },
    {
     "data": {
      "image/png": "[encoded data removed]",
      "text/plain": [
       "<Figure size 432x288 with 1 Axes>"
      ]
     },
     "metadata": {
      "needs_background": "light"
     },
     "output_type": "display_data"
    },
    {
     "data": {
      "image/png": "[encoded data removed]",
      "text/plain": [
       "<Figure size 432x288 with 1 Axes>"
      ]
     },
     "metadata": {
      "needs_background": "light"
     },
     "output_type": "display_data"
    }
   ],
   "source": [
    "model5 = Sequential()\n",
    "# Embedding layer\n",
    "model5.add(\n",
    "    Embedding(vocabularySize,300,input_length=maxLength, weights= [embedding_matrix], trainable=False))\n",
    "# Fully connected layer\n",
    "# model2.add(Flatten())\n",
    "model5.add(Bidirectional(LSTM(300, return_sequences=True, \n",
    "               dropout=0.1, recurrent_dropout=0.1)))\n",
    "model5.add(Flatten())\n",
    "model5.add(Dense(300, activation='relu'))\n",
    "model5.add(Dense(150, activation='relu'))\n",
    "# Output layer\n",
    "model5.add(Dense(2, activation='softmax'))\n",
    "\n",
    "# Compile the model\n",
    "model5.compile(\n",
    "optimizer='adam', loss='categorical_crossentropy', metrics=['accuracy'])\n",
    "model5.summary()\n",
    "\n",
    "\n",
    "hist5=model5.fit(Xtrain_paraphraseCheck_pad, np.array(labelList), epochs = 7, batch_size = 32, verbose = 1)\n",
    "\n",
    "\n",
    "predictions5=[]\n",
    "for i in range(len(Xtest_paraphraseCheck_pad)):\n",
    "    predict=model5.predict(np.array([Xtest_paraphraseCheck_pad[i]]))\n",
    "    if(predict[0][0]>predict[0][1]):\n",
    "        predictions5.append([1,0])\n",
    "    else:\n",
    "        predictions5.append([0,1])\n",
    "\n",
    "import matplotlib.pyplot as plt\n",
    "import matplotlib.mlab as mlab\n",
    "classify=[]\n",
    "truePositive=0\n",
    "falsePositive=0\n",
    "trueNegative=0\n",
    "falseNegative=0\n",
    "for counter in range(len(predictions4)):\n",
    "    print\n",
    "    if(predictions5[counter][0]==labelList_test[0][0]):\n",
    "        if(predictions5[counter][0]==0):\n",
    "            trueNegative=trueNegative+1\n",
    "        else:\n",
    "            truePositive=truePositive+1 \n",
    "    else:\n",
    "        if(predictions5[counter][0]==0):\n",
    "            falseNegative=falseNegative+1\n",
    "        else:\n",
    "            falsePositive=falsePositive+1\n",
    "            \n",
    "accuracy=(truePositive+trueNegative)/(truePositive+trueNegative+falseNegative+falsePositive)\n",
    "precision=truePositive/(truePositive+falsePositive)\n",
    "recall=truePositive/(truePositive+falseNegative)\n",
    "fmeasure=(2*precision*recall)/(precision+recall)*100\n",
    "print(\"Accuracy\",accuracy*100)\n",
    "print(\"Precision\",precision*100)\n",
    "print(\"recall\",recall*100)\n",
    "print(\"fmeasure\",fmeasure)\n",
    "plt.plot(hist5.history['acc'])\n",
    "plt.title('model accuracy')\n",
    "plt.ylabel('accuracy')\n",
    "plt.xlabel('epoch')\n",
    "plt.legend(['train', 'test'], loc='upper left')\n",
    "plt.show()\n",
    "# summarize history for loss\n",
    "plt.plot(hist5.history['loss'])\n",
    "plt.title('model loss')\n",
    "plt.ylabel('loss')\n",
    "plt.xlabel('epoch')\n",
    "plt.legend(['train', 'test'], loc='upper left')\n",
    "plt.show()"
   ]
  },
  {
   "cell_type": "code",
   "execution_count": 33,
   "metadata": {},
   "outputs": [
    {
     "name": "stdout",
     "output_type": "stream",
     "text": [
      "_________________________________________________________________\n",
      "Layer (type)                 Output Shape              Param #   \n",
      "=================================================================\n",
      "embedding_11 (Embedding)     (None, 38, 300)           7209600   \n",
      "_________________________________________________________________\n",
      "lstm_9 (LSTM)                (None, 38, 300)           721200    \n",
      "_________________________________________________________________\n",
      "flatten_11 (Flatten)         (None, 11400)             0         \n",
      "_________________________________________________________________\n",
      "dense_28 (Dense)             (None, 300)               3420300   \n",
      "_________________________________________________________________\n",
      "dense_29 (Dense)             (None, 150)               45150     \n",
      "_________________________________________________________________\n",
      "dense_30 (Dense)             (None, 2)                 302       \n",
      "=================================================================\n",
      "Total params: 11,396,552\n",
      "Trainable params: 4,186,952\n",
      "Non-trainable params: 7,209,600\n",
      "_________________________________________________________________\n",
      "Epoch 1/7\n",
      "4076/4076 [==============================] - 53s 13ms/step - loss: 0.6250 - acc: 0.6813\n",
      "Epoch 2/7\n",
      "4076/4076 [==============================] - 49s 12ms/step - loss: 0.5949 - acc: 0.6948\n",
      "Epoch 3/7\n",
      "4076/4076 [==============================] - 49s 12ms/step - loss: 0.5646 - acc: 0.7149\n",
      "Epoch 4/7\n",
      "4076/4076 [==============================] - 49s 12ms/step - loss: 0.5044 - acc: 0.7515\n",
      "Epoch 5/7\n",
      "4076/4076 [==============================] - 49s 12ms/step - loss: 0.3649 - acc: 0.8418\n",
      "Epoch 6/7\n",
      "4076/4076 [==============================] - 49s 12ms/step - loss: 0.1707 - acc: 0.9355\n",
      "Epoch 7/7\n",
      "4076/4076 [==============================] - 49s 12ms/step - loss: 0.0762 - acc: 0.9764\n",
      "Accuracy 77.15942028985508\n",
      "Precision 100.0\n",
      "recall 77.15942028985508\n",
      "fmeasure 87.10732984293193\n"
     ]
    },
    {
     "data": {
      "image/png": "[encoded data removed]",
      "text/plain": [
       "<Figure size 432x288 with 1 Axes>"
      ]
     },
     "metadata": {
      "needs_background": "light"
     },
     "output_type": "display_data"
    },
    {
     "data": {
      "image/png": "[encoded data removed]",
      "text/plain": [
       "<Figure size 432x288 with 1 Axes>"
      ]
     },
     "metadata": {
      "needs_background": "light"
     },
     "output_type": "display_data"
    }
   ],
   "source": [
    "model6 = Sequential()\n",
    "# Embedding layer\n",
    "model6.add(\n",
    "    Embedding(vocabularySize,300,input_length=maxLength, weights= [embedding_matrix], trainable=False))\n",
    "# Fully connected layer\n",
    "# model2.add(Flatten())\n",
    "model6.add(LSTM(300, return_sequences=True, \n",
    "               dropout=0.1, recurrent_dropout=0.1))\n",
    "model6.add(Flatten())\n",
    "model6.add(Dense(300, activation='relu'))\n",
    "model6.add(Dense(150, activation='relu'))\n",
    "# Output layer\n",
    "model6.add(Dense(2, activation='softmax'))\n",
    "\n",
    "# Compile the model\n",
    "model6.compile(\n",
    "optimizer='adam', loss='categorical_crossentropy', metrics=['accuracy'])\n",
    "model6.summary()\n",
    "\n",
    "\n",
    "\n",
    "hist6=model6.fit(Xtrain_paraphraseCheck_pad, np.array(labelList), epochs = 7, batch_size = 32, verbose = 1)\n",
    "\n",
    "\n",
    "predictions6=[]\n",
    "for i in range(len(Xtest_paraphraseCheck_pad)):\n",
    "    predict=model6.predict(np.array([Xtest_paraphraseCheck_pad[i]]))\n",
    "    if(predict[0][0]>predict[0][1]):\n",
    "        predictions6.append([1,0])\n",
    "    else:\n",
    "        predictions6.append([0,1])\n",
    "\n",
    "import matplotlib.pyplot as plt\n",
    "import matplotlib.mlab as mlab\n",
    "classify=[]\n",
    "truePositive=0\n",
    "falsePositive=0\n",
    "trueNegative=0\n",
    "falseNegative=0\n",
    "for counter in range(len(predictions4)):\n",
    "    print\n",
    "    if(predictions6[counter][0]==labelList_test[0][0]):\n",
    "        if(predictions6[counter][0]==0):\n",
    "            trueNegative=trueNegative+1\n",
    "        else:\n",
    "            truePositive=truePositive+1 \n",
    "    else:\n",
    "        if(predictions6[counter][0]==0):\n",
    "            falseNegative=falseNegative+1\n",
    "        else:\n",
    "            falsePositive=falsePositive+1\n",
    "            \n",
    "accuracy=(truePositive+trueNegative)/(truePositive+trueNegative+falseNegative+falsePositive)\n",
    "precision=truePositive/(truePositive+falsePositive)\n",
    "recall=truePositive/(truePositive+falseNegative)\n",
    "fmeasure=(2*precision*recall)/(precision+recall)*100\n",
    "print(\"Accuracy\",accuracy*100)\n",
    "print(\"Precision\",precision*100)\n",
    "print(\"recall\",recall*100)\n",
    "print(\"fmeasure\",fmeasure)\n",
    "plt.plot(hist6.history['acc'])\n",
    "plt.title('model accuracy')\n",
    "plt.ylabel('accuracy')\n",
    "plt.xlabel('epoch')\n",
    "plt.legend(['train', 'test'], loc='upper left')\n",
    "plt.show()\n",
    "# summarize history for loss\n",
    "plt.plot(hist6.history['loss'])\n",
    "plt.title('model loss')\n",
    "plt.ylabel('loss')\n",
    "plt.xlabel('epoch')\n",
    "plt.legend(['train', 'test'], loc='upper left')\n",
    "plt.show()"
   ]
  },
  {
   "cell_type": "markdown",
   "metadata": {},
   "source": [
    "### Bi-LSTM performed well on test set with new changes but LSTM overfitted the train dataset,retry with low no  of epoch"
   ]
  },
  {
   "cell_type": "code",
   "execution_count": 40,
   "metadata": {},
   "outputs": [
    {
     "name": "stdout",
     "output_type": "stream",
     "text": [
      "_________________________________________________________________\n",
      "Layer (type)                 Output Shape              Param #   \n",
      "=================================================================\n",
      "embedding_17 (Embedding)     (None, 38, 300)           7209600   \n",
      "_________________________________________________________________\n",
      "lstm_15 (LSTM)               (None, 38, 300)           721200    \n",
      "_________________________________________________________________\n",
      "flatten_17 (Flatten)         (None, 11400)             0         \n",
      "_________________________________________________________________\n",
      "dense_42 (Dense)             (None, 150)               1710150   \n",
      "_________________________________________________________________\n",
      "dropout_3 (Dropout)          (None, 150)               0         \n",
      "_________________________________________________________________\n",
      "dense_43 (Dense)             (None, 2)                 302       \n",
      "=================================================================\n",
      "Total params: 9,641,252\n",
      "Trainable params: 2,431,652\n",
      "Non-trainable params: 7,209,600\n",
      "_________________________________________________________________\n",
      "Epoch 1/10\n",
      "4076/4076 [==============================] - 47s 11ms/step - loss: 0.6266 - acc: 0.6739\n",
      "Epoch 2/10\n",
      "4076/4076 [==============================] - 43s 11ms/step - loss: 0.6013 - acc: 0.6896\n",
      "Epoch 3/10\n",
      "4076/4076 [==============================] - 43s 11ms/step - loss: 0.5819 - acc: 0.7014\n",
      "Epoch 4/10\n",
      "4076/4076 [==============================] - 43s 11ms/step - loss: 0.5571 - acc: 0.7211\n",
      "Epoch 5/10\n",
      "4076/4076 [==============================] - 43s 11ms/step - loss: 0.4981 - acc: 0.7532\n",
      "Epoch 6/10\n",
      "4076/4076 [==============================] - 43s 11ms/step - loss: 0.4197 - acc: 0.8143\n",
      "Epoch 7/10\n",
      "4076/4076 [==============================] - 44s 11ms/step - loss: 0.3108 - acc: 0.8687\n",
      "Epoch 8/10\n",
      "4076/4076 [==============================] - 43s 11ms/step - loss: 0.2325 - acc: 0.9070\n",
      "Epoch 9/10\n",
      "4076/4076 [==============================] - 44s 11ms/step - loss: 0.1572 - acc: 0.9411\n",
      "Epoch 10/10\n",
      "4076/4076 [==============================] - 43s 11ms/step - loss: 0.1142 - acc: 0.9627\n",
      "Accuracy 69.6231884057971\n",
      "Precision 100.0\n",
      "recall 69.6231884057971\n",
      "fmeasure 82.09159261790842\n"
     ]
    },
    {
     "data": {
      "image/png": "[encoded data removed]",
      "text/plain": [
       "<Figure size 432x288 with 1 Axes>"
      ]
     },
     "metadata": {
      "needs_background": "light"
     },
     "output_type": "display_data"
    },
    {
     "data": {
      "image/png": "[encoded data removed]",
      "text/plain": [
       "<Figure size 432x288 with 1 Axes>"
      ]
     },
     "metadata": {
      "needs_background": "light"
     },
     "output_type": "display_data"
    }
   ],
   "source": [
    "model6 = Sequential()\n",
    "# Embedding layer\n",
    "model6.add(\n",
    "    Embedding(vocabularySize,300,input_length=maxLength, weights= [embedding_matrix], trainable=False))\n",
    "# Fully connected layer\n",
    "# model2.add(Flatten())\n",
    "model6.add(LSTM(300, return_sequences=True, \n",
    "               dropout=0.1, recurrent_dropout=0.1))\n",
    "model6.add(Flatten())\n",
    "model6.add(Dense(150, activation='relu'))\n",
    "model6.add(Dropout(0.4))\n",
    "\n",
    "\n",
    "# Output layer\n",
    "model6.add(Dense(2, activation='softmax'))\n",
    "\n",
    "# Compile the model\n",
    "model6.compile(\n",
    "optimizer='adam', loss='categorical_crossentropy', metrics=['accuracy'])\n",
    "model6.summary()\n",
    "\n",
    "\n",
    "\n",
    "hist6=model6.fit(Xtrain_paraphraseCheck_pad, np.array(labelList), epochs = 10, batch_size = 32, verbose = 1)\n",
    "\n",
    "\n",
    "predictions6=[]\n",
    "for i in range(len(Xtest_paraphraseCheck_pad)):\n",
    "    predict=model6.predict(np.array([Xtest_paraphraseCheck_pad[i]]))\n",
    "    if(predict[0][0]>predict[0][1]):\n",
    "        predictions6.append([1,0])\n",
    "    else:\n",
    "        predictions6.append([0,1])\n",
    "\n",
    "import matplotlib.pyplot as plt\n",
    "import matplotlib.mlab as mlab\n",
    "classify=[]\n",
    "truePositive=0\n",
    "falsePositive=0\n",
    "trueNegative=0\n",
    "falseNegative=0\n",
    "for counter in range(len(predictions4)):\n",
    "    print\n",
    "    if(predictions6[counter][0]==labelList_test[0][0]):\n",
    "        if(predictions6[counter][0]==0):\n",
    "            trueNegative=trueNegative+1\n",
    "        else:\n",
    "            truePositive=truePositive+1 \n",
    "    else:\n",
    "        if(predictions6[counter][0]==0):\n",
    "            falseNegative=falseNegative+1\n",
    "        else:\n",
    "            falsePositive=falsePositive+1\n",
    "            \n",
    "accuracy=(truePositive+trueNegative)/(truePositive+trueNegative+falseNegative+falsePositive)\n",
    "precision=truePositive/(truePositive+falsePositive)\n",
    "recall=truePositive/(truePositive+falseNegative)\n",
    "fmeasure=(2*precision*recall)/(precision+recall)*100\n",
    "print(\"Accuracy\",accuracy*100)\n",
    "print(\"Precision\",precision*100)\n",
    "print(\"recall\",recall*100)\n",
    "print(\"fmeasure\",fmeasure)\n",
    "plt.plot(hist5.history['acc'])\n",
    "plt.title('model accuracy')\n",
    "plt.ylabel('accuracy')\n",
    "plt.xlabel('epoch')\n",
    "plt.legend(['train', 'test'], loc='upper left')\n",
    "plt.show()\n",
    "# summarize history for loss\n",
    "plt.plot(hist5.history['loss'])\n",
    "plt.title('model loss')\n",
    "plt.ylabel('loss')\n",
    "plt.xlabel('epoch')\n",
    "plt.legend(['train', 'test'], loc='upper left')\n",
    "plt.show()"
   ]
  },
  {
   "cell_type": "code",
   "execution_count": null,
   "metadata": {},
   "outputs": [],
   "source": []
  }
 ],
 "metadata": {
  "kernelspec": {
   "display_name": "Python 3",
   "language": "python",
   "name": "python3"
  },
  "language_info": {
   "codemirror_mode": {
    "name": "ipython",
    "version": 3
   },
   "file_extension": ".py",
   "mimetype": "text/x-python",
   "name": "python",
   "nbconvert_exporter": "python",
   "pygments_lexer": "ipython3",
   "version": "3.7.6"
  }
 },
 "nbformat": 4,
 "nbformat_minor": 2
}
